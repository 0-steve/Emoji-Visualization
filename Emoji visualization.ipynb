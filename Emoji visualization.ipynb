{
 "cells": [
  {
   "cell_type": "code",
   "execution_count": 7,
   "metadata": {},
   "outputs": [],
   "source": [
    "import pandas as pd\n",
    "import altair as alt\n",
    "import numpy as np"
   ]
  },
  {
   "cell_type": "code",
   "execution_count": 8,
   "metadata": {},
   "outputs": [],
   "source": [
    "alt.renderers.enable('default')\n",
    "alt.data_transformers.enable('json')\n",
    "tweets = pd.read_csv('tweets.csv')\n",
    "tweets['emojis'] = tweets['text'].str.findall(r'[^\\w\\s.,\"@\\'?/#!$%\\^&\\*;:{}=\\-_`~()\\U0001F1E6-\\U0001F1FF]').str.len()\n",
    "boxer_emojis = ['☘️','🇮🇪','🍀','💸','🤑','💰','💵','😴','😂','🤣','🥊','👊','👏','🇮🇪','💪','🔥','😭','💰']\n",
    "for emoji in boxer_emojis:\n",
    "    tweets[emoji] = tweets.text.str.count(emoji)\n",
    "tweets['irish_pride'] = tweets['☘️'] + tweets['🇮🇪'] + tweets['🍀']\n",
    "tweets['money_team'] = tweets['💸'] + tweets['🤑'] + tweets['💰'] +  tweets['💵']"
   ]
  },
  {
   "cell_type": "code",
   "execution_count": 12,
   "metadata": {},
   "outputs": [],
   "source": [
    "# transform text into datetime\n",
    "tweets['datetime'] = pd.to_datetime(tweets['created_at'])\n",
    "tweets = tweets.set_index('datetime')\n",
    "\n",
    "teams = tweets.copy()\n",
    "teams['irish_pride']\n",
    "teams = teams.resample('1s').sum()\n",
    "teams  = teams[(teams['💸']>0) | (teams['🤑']>0) | (teams['💰']>0) | (teams['💵']>0) | (teams['☘️']>0) | (teams['🍀']>0) | (teams['🇮🇪']>0) ]\n",
    "\n",
    "# create mayweather emoji rolling average\n",
    "mdf = teams['money_team'].rolling('4Min').mean().reset_index()\n",
    "mdf['team'] = '💸🤑💰💵'\n",
    "mdf = mdf.rename(columns={'money_team':'tweet_count'})\n",
    "\n",
    "# create mcgregor emoji rolling average\n",
    "idf = teams['irish_pride'].rolling('4Min').mean().reset_index()\n",
    "idf['team'] = '☘️🍀🇮🇪'\n",
    "idf = idf.rename(columns={'irish_pride':'tweet_count'})\n",
    "\n",
    "ndf = pd.concat([mdf,idf])"
   ]
  },
  {
   "cell_type": "code",
   "execution_count": 13,
   "metadata": {},
   "outputs": [],
   "source": [
    "# annoations to be used in visualization \n",
    "annotations = [['2017-08-27 00:15:00',4, 'Fight begins'],\n",
    "               ['2017-08-27 00:22:00',5, 'McGregor does OK \\nin the early rounds'],\n",
    "               ['2017-08-27 00:53:00',4, 'Mayweather takes \\nover and wins by \\nTKO']]\n",
    "a_df = pd.DataFrame(annotations, columns=['date','count','note'])\n",
    "\n",
    "# lines to be used in visualization\n",
    "plot_df = pd.DataFrame({\n",
    "    'date': ['2017-08-27 00:15:00', '2017-08-27 00:15:00', '2017-08-27 00:24:00', '2017-08-27 00:30:00'],\n",
    "    'y': [3.75, 2.25, 4.3, 3.8],\n",
    "    'class': ['A', 'A', 'B', 'B']\n",
    "})"
   ]
  },
  {
   "cell_type": "code",
   "execution_count": 16,
   "metadata": {},
   "outputs": [],
   "source": [
    "alt.themes.enable('fivethirtyeight')\n",
    "\n",
    "# plot mcgregor emojis\n",
    "irish_line = alt.Chart(idf).mark_line().encode(\n",
    "    x=alt.X('datetime',\n",
    "           axis=alt.Axis(tickCount=4, title='')),\n",
    "    y=alt.Y(\"tweet_count\",\n",
    "           axis=alt.Axis(tickCount=4, title='')),\n",
    "    color=alt.Color('team:N', scale=alt.Scale(domain=['☘️🍀🇮🇪'], range=['gold']), \n",
    "                    legend=alt.Legend(title = '', orient=\"top\", symbolType='stroke', labelFontSize=25))\n",
    ")\n",
    "\n",
    "# plot mayweather emojis\n",
    "money_line = alt.Chart(mdf).mark_line().encode(\n",
    "    x=alt.X('datetime',\n",
    "           axis=alt.Axis(tickCount=4, title='')),\n",
    "    y=alt.Y(\"tweet_count\",\n",
    "           axis=alt.Axis(tickCount=4, title='Four-minute rolling average')),\n",
    "    color=alt.Color('team:N', scale=alt.Scale(domain=['💸🤑💰💵'], range=['green']), \n",
    "                    legend=alt.Legend(title = '', orient=\"top\", symbolType='stroke', labelFontSize=25))\n",
    ")\n",
    "\n",
    "# plot lines\n",
    "plot_lines = alt.Chart(plot_df).mark_line(color='black').encode(\n",
    "    x=alt.X('date:T',\n",
    "           axis=alt.Axis(tickCount=4, title='')),\n",
    "    y=alt.Y(\"y\",\n",
    "           axis=alt.Axis(tickCount=4, title='')),\n",
    "    detail='class'\n",
    ")\n",
    "\n",
    "# plot annotations\n",
    "plot_annotation = alt.Chart(a_df).mark_text(size=14,lineBreak='\\n').encode(\n",
    "    x=alt.X('date:T',\n",
    "           axis=alt.Axis(tickCount=4, title='')),\n",
    "    y=alt.Y('count',\n",
    "           axis=alt.Axis(tickCount=4, title='')),\n",
    "    text='note'\n",
    "    ).properties(\n",
    "    width=500,\n",
    "    height=300\n",
    ")\n",
    "\n",
    "# combine visualizations\n",
    "chart = (money_line + irish_line + plot_lines + plot_annotation).resolve_scale(color='independent').properties(\n",
    "    title={\n",
    "        \"text\": \"Irish Pride VS The Money Team\", \n",
    "        \"fontSize\": 25,\n",
    "        \"subtitle\": [\"Four-minute rolling average of the number of uses of selected emoji in\", \n",
    "        \"sampled tweets during Mayweather-McGregor fight\"],\n",
    "        \"subtitleFontSize\": 16\n",
    "    }\n",
    ")"
   ]
  },
  {
   "cell_type": "code",
   "execution_count": 17,
   "metadata": {},
   "outputs": [
    {
     "data": {
      "text/html": [
       "\n",
       "<div id=\"altair-viz-4a492124fc2a496b889a681818c13a3e\"></div>\n",
       "<script type=\"text/javascript\">\n",
       "  (function(spec, embedOpt){\n",
       "    let outputDiv = document.currentScript.previousElementSibling;\n",
       "    if (outputDiv.id !== \"altair-viz-4a492124fc2a496b889a681818c13a3e\") {\n",
       "      outputDiv = document.getElementById(\"altair-viz-4a492124fc2a496b889a681818c13a3e\");\n",
       "    }\n",
       "    const paths = {\n",
       "      \"vega\": \"https://cdn.jsdelivr.net/npm//vega@5?noext\",\n",
       "      \"vega-lib\": \"https://cdn.jsdelivr.net/npm//vega-lib?noext\",\n",
       "      \"vega-lite\": \"https://cdn.jsdelivr.net/npm//vega-lite@4.8.1?noext\",\n",
       "      \"vega-embed\": \"https://cdn.jsdelivr.net/npm//vega-embed@6?noext\",\n",
       "    };\n",
       "\n",
       "    function loadScript(lib) {\n",
       "      return new Promise(function(resolve, reject) {\n",
       "        var s = document.createElement('script');\n",
       "        s.src = paths[lib];\n",
       "        s.async = true;\n",
       "        s.onload = () => resolve(paths[lib]);\n",
       "        s.onerror = () => reject(`Error loading script: ${paths[lib]}`);\n",
       "        document.getElementsByTagName(\"head\")[0].appendChild(s);\n",
       "      });\n",
       "    }\n",
       "\n",
       "    function showError(err) {\n",
       "      outputDiv.innerHTML = `<div class=\"error\" style=\"color:red;\">${err}</div>`;\n",
       "      throw err;\n",
       "    }\n",
       "\n",
       "    function displayChart(vegaEmbed) {\n",
       "      vegaEmbed(outputDiv, spec, embedOpt)\n",
       "        .catch(err => showError(`Javascript Error: ${err.message}<br>This usually means there's a typo in your chart specification. See the javascript console for the full traceback.`));\n",
       "    }\n",
       "\n",
       "    if(typeof define === \"function\" && define.amd) {\n",
       "      requirejs.config({paths});\n",
       "      require([\"vega-embed\"], displayChart, err => showError(`Error loading script: ${err.message}`));\n",
       "    } else if (typeof vegaEmbed === \"function\") {\n",
       "      displayChart(vegaEmbed);\n",
       "    } else {\n",
       "      loadScript(\"vega\")\n",
       "        .then(() => loadScript(\"vega-lite\"))\n",
       "        .then(() => loadScript(\"vega-embed\"))\n",
       "        .catch(showError)\n",
       "        .then(() => displayChart(vegaEmbed));\n",
       "    }\n",
       "  })({\"usermeta\": {\"embedOptions\": {\"theme\": \"fivethirtyeight\"}}, \"config\": {\"view\": {\"continuousWidth\": 400, \"continuousHeight\": 300}}, \"layer\": [{\"data\": {\"url\": \"altair-data-4ba295828f6540acd5b7cfe1367be8f6.json\", \"format\": {\"type\": \"json\"}}, \"mark\": \"line\", \"encoding\": {\"color\": {\"type\": \"nominal\", \"field\": \"team\", \"legend\": {\"labelFontSize\": 25, \"orient\": \"top\", \"symbolType\": \"stroke\", \"title\": \"\"}, \"scale\": {\"domain\": [\"\\ud83d\\udcb8\\ud83e\\udd11\\ud83d\\udcb0\\ud83d\\udcb5\"], \"range\": [\"green\"]}}, \"x\": {\"type\": \"temporal\", \"axis\": {\"tickCount\": 4, \"title\": \"\"}, \"field\": \"datetime\"}, \"y\": {\"type\": \"quantitative\", \"axis\": {\"tickCount\": 4, \"title\": \"Four-minute rolling average\"}, \"field\": \"tweet_count\"}}}, {\"data\": {\"url\": \"altair-data-9fed4b95d2b7b1106386082be1be02f6.json\", \"format\": {\"type\": \"json\"}}, \"mark\": \"line\", \"encoding\": {\"color\": {\"type\": \"nominal\", \"field\": \"team\", \"legend\": {\"labelFontSize\": 25, \"orient\": \"top\", \"symbolType\": \"stroke\", \"title\": \"\"}, \"scale\": {\"domain\": [\"\\u2618\\ufe0f\\ud83c\\udf40\\ud83c\\uddee\\ud83c\\uddea\"], \"range\": [\"gold\"]}}, \"x\": {\"type\": \"temporal\", \"axis\": {\"tickCount\": 4, \"title\": \"\"}, \"field\": \"datetime\"}, \"y\": {\"type\": \"quantitative\", \"axis\": {\"tickCount\": 4, \"title\": \"\"}, \"field\": \"tweet_count\"}}}, {\"data\": {\"url\": \"altair-data-b4f94a8ff8a29c4c87623de4b60ce0ba.json\", \"format\": {\"type\": \"json\"}}, \"mark\": {\"type\": \"line\", \"color\": \"black\"}, \"encoding\": {\"detail\": {\"type\": \"nominal\", \"field\": \"class\"}, \"x\": {\"type\": \"temporal\", \"axis\": {\"tickCount\": 4, \"title\": \"\"}, \"field\": \"date\"}, \"y\": {\"type\": \"quantitative\", \"axis\": {\"tickCount\": 4, \"title\": \"\"}, \"field\": \"y\"}}}, {\"data\": {\"url\": \"altair-data-fca19b628a0d41633c43b4b7b3cef3f8.json\", \"format\": {\"type\": \"json\"}}, \"mark\": {\"type\": \"text\", \"lineBreak\": \"\\n\", \"size\": 14}, \"encoding\": {\"text\": {\"type\": \"nominal\", \"field\": \"note\"}, \"x\": {\"type\": \"temporal\", \"axis\": {\"tickCount\": 4, \"title\": \"\"}, \"field\": \"date\"}, \"y\": {\"type\": \"quantitative\", \"axis\": {\"tickCount\": 4, \"title\": \"\"}, \"field\": \"count\"}}, \"height\": 300, \"width\": 500}], \"resolve\": {\"scale\": {\"color\": \"independent\"}}, \"title\": {\"text\": \"Irish Pride VS The Money Team\", \"fontSize\": 25, \"subtitle\": [\"Four-minute rolling average of the number of uses of selected emoji in\", \"sampled tweets during Mayweather-McGregor fight\"], \"subtitleFontSize\": 16}, \"$schema\": \"https://vega.github.io/schema/vega-lite/v4.8.1.json\"}, {\"mode\": \"vega-lite\"});\n",
       "</script>"
      ],
      "text/plain": [
       "alt.LayerChart(...)"
      ]
     },
     "execution_count": 17,
     "metadata": {},
     "output_type": "execute_result"
    }
   ],
   "source": [
    "chart"
   ]
  },
  {
   "cell_type": "code",
   "execution_count": null,
   "metadata": {},
   "outputs": [],
   "source": []
  }
 ],
 "metadata": {
  "kernelspec": {
   "display_name": "Python 3",
   "language": "python",
   "name": "python3"
  },
  "language_info": {
   "codemirror_mode": {
    "name": "ipython",
    "version": 3
   },
   "file_extension": ".py",
   "mimetype": "text/x-python",
   "name": "python",
   "nbconvert_exporter": "python",
   "pygments_lexer": "ipython3",
   "version": "3.9.1"
  }
 },
 "nbformat": 4,
 "nbformat_minor": 2
}
